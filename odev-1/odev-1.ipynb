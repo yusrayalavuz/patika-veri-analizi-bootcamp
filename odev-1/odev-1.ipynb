{
 "cells": [
  {
   "cell_type": "code",
   "execution_count": 1,
   "id": "5054dce2-c597-4e8a-8bb4-302f24c698a0",
   "metadata": {},
   "outputs": [],
   "source": [
    "##ödevler --- ilk değerler kullanıcıdan alınacak\n",
    "\n",
    "# 1. girilen sayının pozitif, negatif veya sıfır olduğunu yazan koşul\n",
    "# 2. girilen sayının tek mi çift mi olduğunu yazan koşul\n",
    "# 3. Girilen nota göre harf aralığını yazan koşul (80-100 A, 60-80 B vs.)\n",
    "# 4. girilen ismin karakter sayısı 5den büyükse \"uzun bir isminiz var\" değilse ismini yazsın\n",
    "# 5. girilen sayının asal olup olmadığını bulan kod dizisi. ((for ve while))\n",
    "# 6. notlar=[45,85,75,50] içinde 75 değerinin indisini yazdıran döngü\n",
    "# 7. girilen sayının faktöriyelini alalım. (for ve while)\n",
    "# 8. Kullanıcıdan pozitif bir sayı bekleyen, pozitifi de gördüğü an bastıran, negatif sayı girildikçe bir daha soran yapı kuralım. (for döngüsü ile)\n",
    "# 9. fonksiyon ile girilen sayının asal olup olmadığını bulan kod dizisi. (for ve while)\n",
    "# 10. fonksiyon ile girilen sayının faktöriyelini alalım. (for ve while)"
   ]
  },
  {
   "cell_type": "code",
   "execution_count": 1,
   "id": "0b5fc910-cb57-4c57-9edb-0720417ce1f7",
   "metadata": {},
   "outputs": [
    {
     "name": "stdin",
     "output_type": "stream",
     "text": [
      "lütfen bir sayı giriniz:  5\n"
     ]
    },
    {
     "name": "stdout",
     "output_type": "stream",
     "text": [
      "pozitif\n"
     ]
    }
   ],
   "source": [
    "# 1. girilen sayının pozitif, negatif veya sıfır olduğunu yazan koşul\n",
    "sayi= int(input(\"lütfen bir sayı giriniz: \"))\n",
    "\n",
    "if sayi<0:\n",
    "    print(\"negatif\")\n",
    "    \n",
    "elif sayi>0:\n",
    "    print(\"pozitif\")\n",
    "\n",
    "else :\n",
    "    print(\"sıfır\")\n"
   ]
  },
  {
   "cell_type": "code",
   "execution_count": 3,
   "id": "cb387290-1b63-42d1-a937-654218773084",
   "metadata": {},
   "outputs": [
    {
     "name": "stdin",
     "output_type": "stream",
     "text": [
      "lütfen bir sayı giriniz:  5\n"
     ]
    },
    {
     "name": "stdout",
     "output_type": "stream",
     "text": [
      "tek\n"
     ]
    }
   ],
   "source": [
    "# 2. girilen sayının tek mi çift mi olduğunu yazan koşul\n",
    "sayi2= int(input(\"lütfen bir sayı giriniz: \"))\n",
    "\n",
    "if sayi2%2==0:\n",
    "    print(\"çift\")\n",
    "    \n",
    "else :\n",
    "    print(\"tek\")\n"
   ]
  },
  {
   "cell_type": "code",
   "execution_count": 5,
   "id": "e500e4e6-6a77-49ea-a4a2-29d450c647a2",
   "metadata": {},
   "outputs": [
    {
     "name": "stdin",
     "output_type": "stream",
     "text": [
      "lütfen öğrencinin 100 üzerinden notunu giriniz:  85\n"
     ]
    },
    {
     "name": "stdout",
     "output_type": "stream",
     "text": [
      "Harf notu : A\n"
     ]
    }
   ],
   "source": [
    "# 3. Girilen nota göre harf aralığını yazan koşul (80-100 A, 60-80 B vs.)\n",
    "sayi3= int(input(\"lütfen öğrencinin 100 üzerinden notunu giriniz: \"))\n",
    "\n",
    "if sayi3>=85 and sayi3<=100:\n",
    "    print(\"Harf notu : A\")\n",
    "    \n",
    "elif sayi3>=70 and sayi3<85:\n",
    "    print(\"Harf notu : B\")\n",
    "    \n",
    "elif sayi3>=60 and sayi3<70:\n",
    "    print(\"Harf notu : C\")\n",
    "    \n",
    "elif sayi3>=50 and sayi3<60:\n",
    "    print(\"Harf notu : D\")\n",
    "\n",
    "else :\n",
    "    print(\"Harf notu : F\")\n"
   ]
  },
  {
   "cell_type": "code",
   "execution_count": 9,
   "id": "013dadf4-6dc8-498a-9f51-7d43110ad1a7",
   "metadata": {},
   "outputs": [
    {
     "name": "stdin",
     "output_type": "stream",
     "text": [
      "Lütfen isminizi girin:  yüsra\n"
     ]
    },
    {
     "name": "stdout",
     "output_type": "stream",
     "text": [
      "İsminiz: yüsra\n"
     ]
    }
   ],
   "source": [
    "# 4. girilen ismin karakter sayısı 5den büyükse \"uzun bir isminiz var\" değilse ismini yazsın\n",
    "isim = input(\"Lütfen isminizi girin: \")\n",
    "\n",
    "if len(isim) > 5:\n",
    "    print(\"Uzun bir isminiz var.\")\n",
    "else:\n",
    "   print(\"İsminiz: \" + isim)\n"
   ]
  },
  {
   "cell_type": "code",
   "execution_count": 11,
   "id": "af20ab50-34d9-40c6-a63e-580275d4e57a",
   "metadata": {},
   "outputs": [
    {
     "name": "stdin",
     "output_type": "stream",
     "text": [
      "Bir sayı girin:  8\n"
     ]
    },
    {
     "name": "stdout",
     "output_type": "stream",
     "text": [
      "Asal sayı değildir.\n"
     ]
    }
   ],
   "source": [
    "# 5. girilen sayının asal olup olmadığını bulan kod dizisi.(for ile)\n",
    "sayi = int(input(\"Bir sayı girin: \"))\n",
    "\n",
    "if sayi < 2:\n",
    "    print(\"Asal sayı değildir.\")\n",
    "else:\n",
    "    asal = True\n",
    "    for i in range(2, int(sayi ** 0.5) + 1):\n",
    "        if sayi % i == 0:\n",
    "            asal = False\n",
    "            break\n",
    "\n",
    "    if asal:\n",
    "        print(\"Asal sayıdır.\")\n",
    "    else:\n",
    "        print(\"Asal sayı değildir.\")\n"
   ]
  },
  {
   "cell_type": "code",
   "execution_count": 1,
   "id": "ada364d2-3da9-48c9-94f7-582eecf6ca69",
   "metadata": {},
   "outputs": [
    {
     "name": "stdin",
     "output_type": "stream",
     "text": [
      "Bir sayı girin:  5\n"
     ]
    },
    {
     "name": "stdout",
     "output_type": "stream",
     "text": [
      "Asal sayıdır.\n"
     ]
    }
   ],
   "source": [
    "# 5. girilen sayının asal olup olmadığını bulan kod dizisi.(while ile)\n",
    "sayi = int(input(\"Bir sayı girin: \"))\n",
    "\n",
    "if sayi < 2:\n",
    "    print(\"Asal sayı değildir.\")\n",
    "else:\n",
    "    asal = True\n",
    "    i = 2\n",
    "    while i <= int(sayi ** 0.5):\n",
    "        if sayi % i == 0:\n",
    "            asal = False\n",
    "            break\n",
    "        i = i+1\n",
    "\n",
    "    if asal:\n",
    "        print(\"Asal sayıdır.\")\n",
    "    else:\n",
    "        print(\"Asal sayı değildir.\")\n"
   ]
  },
  {
   "cell_type": "code",
   "execution_count": 13,
   "id": "8ec8c6ba-cd29-4fb5-8908-024388a87a7c",
   "metadata": {},
   "outputs": [
    {
     "name": "stdout",
     "output_type": "stream",
     "text": [
      "75'in indisi: 2\n"
     ]
    }
   ],
   "source": [
    "# 6. notlar=[45,85,75,50] içinde 75 değerinin indisini yazdıran döngü\n",
    "notlar = [45, 85, 75, 50]\n",
    "\n",
    "for i, eleman in enumerate(notlar):\n",
    "    if eleman == 75:\n",
    "        print(\"75'in indisi:\", i)\n"
   ]
  },
  {
   "cell_type": "code",
   "execution_count": 15,
   "id": "748ff461-510a-4770-8c0b-7105031e7a63",
   "metadata": {},
   "outputs": [
    {
     "name": "stdin",
     "output_type": "stream",
     "text": [
      "Bir sayı girin:  5\n"
     ]
    },
    {
     "name": "stdout",
     "output_type": "stream",
     "text": [
      "5 ! = 120\n"
     ]
    }
   ],
   "source": [
    "# 7. girilen sayının faktöriyelini alalım. (for ile)\n",
    "sayi = int(input(\"Bir sayı girin: \"))\n",
    "\n",
    "faktoriyel = 1\n",
    "\n",
    "if sayi < 0:\n",
    "    print(\"Pozitif bir sayı girin\")\n",
    "else:\n",
    "    for i in range(1, sayi + 1):\n",
    "        faktoriyel *= i\n",
    "    print(sayi, \"! =\", faktoriyel)\n",
    "\n"
   ]
  },
  {
   "cell_type": "code",
   "execution_count": 17,
   "id": "b40b6f35-d4cf-45d9-b98b-c4dc14483384",
   "metadata": {},
   "outputs": [
    {
     "name": "stdin",
     "output_type": "stream",
     "text": [
      "Bir sayı girin:  4\n"
     ]
    },
    {
     "name": "stdout",
     "output_type": "stream",
     "text": [
      "4 ! = 24\n"
     ]
    }
   ],
   "source": [
    "# 7. girilen sayının faktöriyelini alalım. (while ile)\n",
    "sayi = int(input(\"Bir sayı girin: \"))\n",
    "\n",
    "faktoriyel = 1\n",
    "i = 1\n",
    "\n",
    "if sayi < 0:\n",
    "    print(\"Pozitif bir sayı girin\")\n",
    "else:\n",
    "    while i <= sayi:\n",
    "        faktoriyel *= i\n",
    "        i += 1\n",
    "    print(sayi, \"! =\", faktoriyel)\n"
   ]
  },
  {
   "cell_type": "code",
   "execution_count": 19,
   "id": "a7c9f7da-0c14-4b98-ba51-4dcd43dc3e2e",
   "metadata": {},
   "outputs": [
    {
     "name": "stdin",
     "output_type": "stream",
     "text": [
      "Pozitif bir sayı girin:  -10\n"
     ]
    },
    {
     "name": "stdout",
     "output_type": "stream",
     "text": [
      "Negatif sayı girdiniz. Lütfen tekrar deneyin.\n"
     ]
    },
    {
     "name": "stdin",
     "output_type": "stream",
     "text": [
      "Pozitif bir sayı girin:  5\n"
     ]
    },
    {
     "name": "stdout",
     "output_type": "stream",
     "text": [
      "Girdiğiniz pozitif sayı: 5\n"
     ]
    }
   ],
   "source": [
    "# 8. Kullanıcıdan pozitif bir sayı bekleyen, pozitifi de gördüğü an bastıran, negatif sayı girildikçe bir daha soran yapı kuralım. (for döngüsü ile)\n",
    "for _ in range(100):  \n",
    "    sayi = int(input(\"Pozitif bir sayı girin: \"))\n",
    "    if sayi > 0:\n",
    "        print(\"Girdiğiniz pozitif sayı:\", sayi)\n",
    "        break\n",
    "    else:\n",
    "        print(\"Negatif sayı girdiniz. Lütfen tekrar deneyin.\")\n"
   ]
  },
  {
   "cell_type": "code",
   "execution_count": 25,
   "id": "abb11bbd-3393-4c2f-aed8-967f8b39b3d7",
   "metadata": {},
   "outputs": [
    {
     "name": "stdin",
     "output_type": "stream",
     "text": [
      "Bir sayı girin:  10\n"
     ]
    },
    {
     "name": "stdout",
     "output_type": "stream",
     "text": [
      "Asal sayı değildir.\n"
     ]
    }
   ],
   "source": [
    "# 9. fonksiyon ile girilen sayının asal olup olmadığını bulan kod dizisi. (for ile)\n",
    "def asal_mi(sayi):\n",
    "    if sayi < 2:\n",
    "        return False\n",
    "    for i in range(2, int(sayi ** 0.5) + 1):\n",
    "        if sayi % i == 0:\n",
    "            return False\n",
    "    return True\n",
    "\n",
    "\n",
    "sayi = int(input(\"Bir sayı girin: \"))\n",
    "\n",
    "if asal_mi(sayi):\n",
    "    print(\"Asal sayıdır.\")\n",
    "else:\n",
    "    print(\"Asal sayı değildir.\")\n",
    "\n"
   ]
  },
  {
   "cell_type": "code",
   "execution_count": 27,
   "id": "b8d64e6a-3d55-410a-ad17-036534f0c32e",
   "metadata": {},
   "outputs": [
    {
     "name": "stdin",
     "output_type": "stream",
     "text": [
      "Bir sayı girin:  11\n"
     ]
    },
    {
     "name": "stdout",
     "output_type": "stream",
     "text": [
      "Asal sayıdır.\n"
     ]
    }
   ],
   "source": [
    "# 9. fonksiyon ile girilen sayının asal olup olmadığını bulan kod dizisi. (while ile)\n",
    "def asal_mi_2(sayi):\n",
    "    if sayi < 2:\n",
    "        return False\n",
    "    i = 2\n",
    "    while i <= int(sayi ** 0.5):\n",
    "        if sayi % i == 0:\n",
    "            return False\n",
    "        i += 1\n",
    "    return True\n",
    "\n",
    "\n",
    "sayi = int(input(\"Bir sayı girin: \"))\n",
    "\n",
    "if asal_mi_2(sayi):\n",
    "    print(\"Asal sayıdır.\")\n",
    "else:\n",
    "    print(\"Asal sayı değildir.\")\n"
   ]
  },
  {
   "cell_type": "code",
   "execution_count": 33,
   "id": "11cb3057-24f3-4d77-8d9f-64db520f2231",
   "metadata": {},
   "outputs": [
    {
     "name": "stdin",
     "output_type": "stream",
     "text": [
      "Bir sayı girin:  -3\n"
     ]
    },
    {
     "name": "stdout",
     "output_type": "stream",
     "text": [
      "Pozitif bir sayı girin\n"
     ]
    }
   ],
   "source": [
    "# 10. fonksiyon ile girilen sayının faktöriyelini alalım. (for ile)\n",
    "def faktoriyel_hesapla(sayi):\n",
    "    if sayi < 0:\n",
    "        return \"Pozitif bir sayı girin\"\n",
    "    faktoriyel = 1\n",
    "    for i in range(1, sayi + 1):\n",
    "        faktoriyel *= i\n",
    "    return faktoriyel\n",
    "\n",
    "sayi = int(input(\"Bir sayı girin: \"))\n",
    "sonuc = faktoriyel_hesapla(sayi)\n",
    "\n",
    "if isinstance(sonuc, str):\n",
    "    print(sonuc)\n",
    "else:\n",
    "    print(sayi, \"! =\", sonuc)\n"
   ]
  },
  {
   "cell_type": "code",
   "execution_count": 37,
   "id": "365f959a-45e2-41d2-840f-58182c2b1d23",
   "metadata": {},
   "outputs": [
    {
     "name": "stdin",
     "output_type": "stream",
     "text": [
      "Bir sayı girin:  8\n"
     ]
    },
    {
     "name": "stdout",
     "output_type": "stream",
     "text": [
      "8 ! = 40320\n"
     ]
    }
   ],
   "source": [
    "# 10. fonksiyon ile girilen sayının faktöriyelini alalım. (while ile)\n",
    "def faktoriyel_hesapla_2(sayi):\n",
    "    if sayi < 0:\n",
    "        return \"Pozitif bir sayı girin\"\n",
    "    \n",
    "    faktoriyel = 1\n",
    "    i = 1\n",
    "    while i <= sayi:\n",
    "        faktoriyel *= i\n",
    "        i += 1\n",
    "    return faktoriyel\n",
    "\n",
    "sayi = int(input(\"Bir sayı girin: \"))\n",
    "sonuc = faktoriyel_hesapla_2(sayi)\n",
    "\n",
    "if isinstance(sonuc, str):\n",
    "    print(sonuc)\n",
    "else:\n",
    "    print(sayi, \"! =\", sonuc)\n"
   ]
  },
  {
   "cell_type": "code",
   "execution_count": null,
   "id": "b3591ab9-6d95-4dd4-b7ab-4821cf0ee047",
   "metadata": {},
   "outputs": [],
   "source": []
  }
 ],
 "metadata": {
  "kernelspec": {
   "display_name": "Python 3 (ipykernel)",
   "language": "python",
   "name": "python3"
  },
  "language_info": {
   "codemirror_mode": {
    "name": "ipython",
    "version": 3
   },
   "file_extension": ".py",
   "mimetype": "text/x-python",
   "name": "python",
   "nbconvert_exporter": "python",
   "pygments_lexer": "ipython3",
   "version": "3.12.4"
  }
 },
 "nbformat": 4,
 "nbformat_minor": 5
}
