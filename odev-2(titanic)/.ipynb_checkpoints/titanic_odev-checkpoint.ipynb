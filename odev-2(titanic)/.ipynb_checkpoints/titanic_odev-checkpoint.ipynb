{
 "cells": [
  {
   "cell_type": "code",
   "execution_count": 1,
   "id": "6072ab12-9f95-4959-a063-062322661a1b",
   "metadata": {},
   "outputs": [],
   "source": [
    "import pandas as pd\n",
    "import numpy as np\n"
   ]
  },
  {
   "cell_type": "code",
   "execution_count": 210,
   "id": "17f383b4-ef34-400a-9c65-c5bbf4e37b4b",
   "metadata": {},
   "outputs": [],
   "source": [
    "df=pd.read_csv('Titanic_dataset.csv')"
   ]
  },
  {
   "cell_type": "code",
   "execution_count": 212,
   "id": "c77f9247-bf07-461c-b818-c1db1b109198",
   "metadata": {},
   "outputs": [],
   "source": [
    "df=df.copy()"
   ]
  },
  {
   "cell_type": "code",
   "execution_count": 214,
   "id": "ee213b01-3152-4218-81a3-11fe513b8b7b",
   "metadata": {},
   "outputs": [
    {
     "data": {
      "text/html": [
       "<div>\n",
       "<style scoped>\n",
       "    .dataframe tbody tr th:only-of-type {\n",
       "        vertical-align: middle;\n",
       "    }\n",
       "\n",
       "    .dataframe tbody tr th {\n",
       "        vertical-align: top;\n",
       "    }\n",
       "\n",
       "    .dataframe thead th {\n",
       "        text-align: right;\n",
       "    }\n",
       "</style>\n",
       "<table border=\"1\" class=\"dataframe\">\n",
       "  <thead>\n",
       "    <tr style=\"text-align: right;\">\n",
       "      <th></th>\n",
       "      <th>PassengerId</th>\n",
       "      <th>Survived</th>\n",
       "      <th>Pclass</th>\n",
       "      <th>Name</th>\n",
       "      <th>Sex</th>\n",
       "      <th>Age</th>\n",
       "      <th>SibSp</th>\n",
       "      <th>Parch</th>\n",
       "      <th>Ticket</th>\n",
       "      <th>Fare</th>\n",
       "      <th>Cabin</th>\n",
       "      <th>Embarked</th>\n",
       "    </tr>\n",
       "  </thead>\n",
       "  <tbody>\n",
       "    <tr>\n",
       "      <th>0</th>\n",
       "      <td>1</td>\n",
       "      <td>0</td>\n",
       "      <td>3</td>\n",
       "      <td>Braund, Mr. Owen Harris</td>\n",
       "      <td>male</td>\n",
       "      <td>22.0</td>\n",
       "      <td>1</td>\n",
       "      <td>0</td>\n",
       "      <td>A/5 21171</td>\n",
       "      <td>7.2500</td>\n",
       "      <td>NaN</td>\n",
       "      <td>S</td>\n",
       "    </tr>\n",
       "    <tr>\n",
       "      <th>1</th>\n",
       "      <td>2</td>\n",
       "      <td>1</td>\n",
       "      <td>1</td>\n",
       "      <td>Cumings, Mrs. John Bradley (Florence Briggs Th...</td>\n",
       "      <td>female</td>\n",
       "      <td>38.0</td>\n",
       "      <td>1</td>\n",
       "      <td>0</td>\n",
       "      <td>PC 17599</td>\n",
       "      <td>71.2833</td>\n",
       "      <td>C85</td>\n",
       "      <td>C</td>\n",
       "    </tr>\n",
       "    <tr>\n",
       "      <th>2</th>\n",
       "      <td>3</td>\n",
       "      <td>1</td>\n",
       "      <td>3</td>\n",
       "      <td>Heikkinen, Miss. Laina</td>\n",
       "      <td>female</td>\n",
       "      <td>26.0</td>\n",
       "      <td>0</td>\n",
       "      <td>0</td>\n",
       "      <td>STON/O2. 3101282</td>\n",
       "      <td>7.9250</td>\n",
       "      <td>NaN</td>\n",
       "      <td>S</td>\n",
       "    </tr>\n",
       "    <tr>\n",
       "      <th>3</th>\n",
       "      <td>4</td>\n",
       "      <td>1</td>\n",
       "      <td>1</td>\n",
       "      <td>Futrelle, Mrs. Jacques Heath (Lily May Peel)</td>\n",
       "      <td>female</td>\n",
       "      <td>35.0</td>\n",
       "      <td>1</td>\n",
       "      <td>0</td>\n",
       "      <td>113803</td>\n",
       "      <td>53.1000</td>\n",
       "      <td>C123</td>\n",
       "      <td>S</td>\n",
       "    </tr>\n",
       "    <tr>\n",
       "      <th>4</th>\n",
       "      <td>5</td>\n",
       "      <td>0</td>\n",
       "      <td>3</td>\n",
       "      <td>Allen, Mr. William Henry</td>\n",
       "      <td>male</td>\n",
       "      <td>35.0</td>\n",
       "      <td>0</td>\n",
       "      <td>0</td>\n",
       "      <td>373450</td>\n",
       "      <td>8.0500</td>\n",
       "      <td>NaN</td>\n",
       "      <td>S</td>\n",
       "    </tr>\n",
       "  </tbody>\n",
       "</table>\n",
       "</div>"
      ],
      "text/plain": [
       "   PassengerId  Survived  Pclass  \\\n",
       "0            1         0       3   \n",
       "1            2         1       1   \n",
       "2            3         1       3   \n",
       "3            4         1       1   \n",
       "4            5         0       3   \n",
       "\n",
       "                                                Name     Sex   Age  SibSp  \\\n",
       "0                            Braund, Mr. Owen Harris    male  22.0      1   \n",
       "1  Cumings, Mrs. John Bradley (Florence Briggs Th...  female  38.0      1   \n",
       "2                             Heikkinen, Miss. Laina  female  26.0      0   \n",
       "3       Futrelle, Mrs. Jacques Heath (Lily May Peel)  female  35.0      1   \n",
       "4                           Allen, Mr. William Henry    male  35.0      0   \n",
       "\n",
       "   Parch            Ticket     Fare Cabin Embarked  \n",
       "0      0         A/5 21171   7.2500   NaN        S  \n",
       "1      0          PC 17599  71.2833   C85        C  \n",
       "2      0  STON/O2. 3101282   7.9250   NaN        S  \n",
       "3      0            113803  53.1000  C123        S  \n",
       "4      0            373450   8.0500   NaN        S  "
      ]
     },
     "execution_count": 214,
     "metadata": {},
     "output_type": "execute_result"
    }
   ],
   "source": [
    "df.head()"
   ]
  },
  {
   "cell_type": "code",
   "execution_count": 216,
   "id": "8a79b30e-3616-449e-93bb-37c88959a93f",
   "metadata": {},
   "outputs": [
    {
     "name": "stdout",
     "output_type": "stream",
     "text": [
      "<class 'pandas.core.frame.DataFrame'>\n",
      "RangeIndex: 891 entries, 0 to 890\n",
      "Data columns (total 12 columns):\n",
      " #   Column       Non-Null Count  Dtype  \n",
      "---  ------       --------------  -----  \n",
      " 0   PassengerId  891 non-null    int64  \n",
      " 1   Survived     891 non-null    int64  \n",
      " 2   Pclass       891 non-null    int64  \n",
      " 3   Name         891 non-null    object \n",
      " 4   Sex          891 non-null    object \n",
      " 5   Age          714 non-null    float64\n",
      " 6   SibSp        891 non-null    int64  \n",
      " 7   Parch        891 non-null    int64  \n",
      " 8   Ticket       891 non-null    object \n",
      " 9   Fare         891 non-null    float64\n",
      " 10  Cabin        204 non-null    object \n",
      " 11  Embarked     889 non-null    object \n",
      "dtypes: float64(2), int64(5), object(5)\n",
      "memory usage: 83.7+ KB\n"
     ]
    }
   ],
   "source": [
    "df.info()"
   ]
  },
  {
   "cell_type": "code",
   "execution_count": 218,
   "id": "cf3c656c-b7ba-4393-8f57-f66965895164",
   "metadata": {},
   "outputs": [
    {
     "data": {
      "text/html": [
       "<div>\n",
       "<style scoped>\n",
       "    .dataframe tbody tr th:only-of-type {\n",
       "        vertical-align: middle;\n",
       "    }\n",
       "\n",
       "    .dataframe tbody tr th {\n",
       "        vertical-align: top;\n",
       "    }\n",
       "\n",
       "    .dataframe thead th {\n",
       "        text-align: right;\n",
       "    }\n",
       "</style>\n",
       "<table border=\"1\" class=\"dataframe\">\n",
       "  <thead>\n",
       "    <tr style=\"text-align: right;\">\n",
       "      <th></th>\n",
       "      <th>count</th>\n",
       "      <th>mean</th>\n",
       "      <th>std</th>\n",
       "      <th>min</th>\n",
       "      <th>25%</th>\n",
       "      <th>50%</th>\n",
       "      <th>75%</th>\n",
       "      <th>max</th>\n",
       "    </tr>\n",
       "  </thead>\n",
       "  <tbody>\n",
       "    <tr>\n",
       "      <th>PassengerId</th>\n",
       "      <td>891.0</td>\n",
       "      <td>446.000000</td>\n",
       "      <td>257.353842</td>\n",
       "      <td>1.00</td>\n",
       "      <td>223.5000</td>\n",
       "      <td>446.0000</td>\n",
       "      <td>668.5</td>\n",
       "      <td>891.0000</td>\n",
       "    </tr>\n",
       "    <tr>\n",
       "      <th>Survived</th>\n",
       "      <td>891.0</td>\n",
       "      <td>0.383838</td>\n",
       "      <td>0.486592</td>\n",
       "      <td>0.00</td>\n",
       "      <td>0.0000</td>\n",
       "      <td>0.0000</td>\n",
       "      <td>1.0</td>\n",
       "      <td>1.0000</td>\n",
       "    </tr>\n",
       "    <tr>\n",
       "      <th>Pclass</th>\n",
       "      <td>891.0</td>\n",
       "      <td>2.308642</td>\n",
       "      <td>0.836071</td>\n",
       "      <td>1.00</td>\n",
       "      <td>2.0000</td>\n",
       "      <td>3.0000</td>\n",
       "      <td>3.0</td>\n",
       "      <td>3.0000</td>\n",
       "    </tr>\n",
       "    <tr>\n",
       "      <th>Age</th>\n",
       "      <td>714.0</td>\n",
       "      <td>29.699118</td>\n",
       "      <td>14.526497</td>\n",
       "      <td>0.42</td>\n",
       "      <td>20.1250</td>\n",
       "      <td>28.0000</td>\n",
       "      <td>38.0</td>\n",
       "      <td>80.0000</td>\n",
       "    </tr>\n",
       "    <tr>\n",
       "      <th>SibSp</th>\n",
       "      <td>891.0</td>\n",
       "      <td>0.523008</td>\n",
       "      <td>1.102743</td>\n",
       "      <td>0.00</td>\n",
       "      <td>0.0000</td>\n",
       "      <td>0.0000</td>\n",
       "      <td>1.0</td>\n",
       "      <td>8.0000</td>\n",
       "    </tr>\n",
       "    <tr>\n",
       "      <th>Parch</th>\n",
       "      <td>891.0</td>\n",
       "      <td>0.381594</td>\n",
       "      <td>0.806057</td>\n",
       "      <td>0.00</td>\n",
       "      <td>0.0000</td>\n",
       "      <td>0.0000</td>\n",
       "      <td>0.0</td>\n",
       "      <td>6.0000</td>\n",
       "    </tr>\n",
       "    <tr>\n",
       "      <th>Fare</th>\n",
       "      <td>891.0</td>\n",
       "      <td>32.204208</td>\n",
       "      <td>49.693429</td>\n",
       "      <td>0.00</td>\n",
       "      <td>7.9104</td>\n",
       "      <td>14.4542</td>\n",
       "      <td>31.0</td>\n",
       "      <td>512.3292</td>\n",
       "    </tr>\n",
       "  </tbody>\n",
       "</table>\n",
       "</div>"
      ],
      "text/plain": [
       "             count        mean         std   min       25%       50%    75%  \\\n",
       "PassengerId  891.0  446.000000  257.353842  1.00  223.5000  446.0000  668.5   \n",
       "Survived     891.0    0.383838    0.486592  0.00    0.0000    0.0000    1.0   \n",
       "Pclass       891.0    2.308642    0.836071  1.00    2.0000    3.0000    3.0   \n",
       "Age          714.0   29.699118   14.526497  0.42   20.1250   28.0000   38.0   \n",
       "SibSp        891.0    0.523008    1.102743  0.00    0.0000    0.0000    1.0   \n",
       "Parch        891.0    0.381594    0.806057  0.00    0.0000    0.0000    0.0   \n",
       "Fare         891.0   32.204208   49.693429  0.00    7.9104   14.4542   31.0   \n",
       "\n",
       "                  max  \n",
       "PassengerId  891.0000  \n",
       "Survived       1.0000  \n",
       "Pclass         3.0000  \n",
       "Age           80.0000  \n",
       "SibSp          8.0000  \n",
       "Parch          6.0000  \n",
       "Fare         512.3292  "
      ]
     },
     "execution_count": 218,
     "metadata": {},
     "output_type": "execute_result"
    }
   ],
   "source": [
    "df.describe().T"
   ]
  },
  {
   "cell_type": "markdown",
   "id": "0237c063-433e-4709-b1dc-e9a93ba6222b",
   "metadata": {},
   "source": [
    "### 1. Kazada ölenlerin yaş ortalamasını bulunuz\n"
   ]
  },
  {
   "cell_type": "code",
   "execution_count": 221,
   "id": "6f988d55-ea9f-4463-9e4f-3deadaa1c083",
   "metadata": {
    "scrolled": true
   },
   "outputs": [
    {
     "data": {
      "text/plain": [
       "30.62617924528302"
      ]
     },
     "execution_count": 221,
     "metadata": {},
     "output_type": "execute_result"
    }
   ],
   "source": [
    "mean_age_dead = df[df['Survived'] == 0]['Age'].mean()\n",
    "mean_age_dead"
   ]
  },
  {
   "cell_type": "markdown",
   "id": "37c9885b-2107-4ea8-8279-c36d9dc2da8c",
   "metadata": {},
   "source": [
    "### 2. Kazada ölenlerin bilet fiyatlarının ortalamasını ve medyanını bulunuz\r\n"
   ]
  },
  {
   "cell_type": "code",
   "execution_count": 226,
   "id": "6bccec7c-355a-4e9a-8147-4feb0db2fafd",
   "metadata": {},
   "outputs": [
    {
     "data": {
      "text/plain": [
       "(22.117886885245902, 10.5)"
      ]
     },
     "execution_count": 226,
     "metadata": {},
     "output_type": "execute_result"
    }
   ],
   "source": [
    "dead_fares = df[df['Survived'] == 0]['Fare']\n",
    "mean_fare_dead = dead_fares.mean()\n",
    "median_fare_dead = dead_fares.median()\n",
    "mean_fare_dead, median_fare_dead\n"
   ]
  },
  {
   "cell_type": "markdown",
   "id": "e420c4ce-038d-4889-bd7b-0a6653365331",
   "metadata": {},
   "source": [
    "### 3. Kazada ölen erkeklerin yaş ortalamasını bulunuz\n"
   ]
  },
  {
   "cell_type": "code",
   "execution_count": 229,
   "id": "96ddec4f-b58d-4b90-abd0-394682ba9925",
   "metadata": {},
   "outputs": [
    {
     "data": {
      "text/plain": [
       "31.618055555555557"
      ]
     },
     "execution_count": 229,
     "metadata": {},
     "output_type": "execute_result"
    }
   ],
   "source": [
    "mean_age_dead_male = df[(df['Survived'] == 0) & (df['Sex'] == 'male')]['Age'].mean()\n",
    "mean_age_dead_male\n"
   ]
  },
  {
   "cell_type": "markdown",
   "id": "736a1247-386d-41fa-ae9c-bc3ca9187e95",
   "metadata": {},
   "source": [
    "### 4. Kazada ölen kadınların yaş ortalamasını bulunuz\r\n"
   ]
  },
  {
   "cell_type": "code",
   "execution_count": 232,
   "id": "91fe82ca-d38a-4cae-bfa6-d84189be99b5",
   "metadata": {},
   "outputs": [
    {
     "data": {
      "text/plain": [
       "25.046875"
      ]
     },
     "execution_count": 232,
     "metadata": {},
     "output_type": "execute_result"
    }
   ],
   "source": [
    "mean_age_dead_female = df[(df['Survived'] == 0) & (df['Sex'] == 'female')]['Age'].mean()\n",
    "mean_age_dead_female\n"
   ]
  },
  {
   "cell_type": "markdown",
   "id": "33cda0a7-aee8-4d2e-81bc-b03740d69219",
   "metadata": {},
   "source": [
    "### 5. Kazadan kurtulanların yaş ortalamasını bulunuz\n"
   ]
  },
  {
   "cell_type": "code",
   "execution_count": 237,
   "id": "e1352a0c-8a51-4427-b026-49e6db974589",
   "metadata": {},
   "outputs": [
    {
     "data": {
      "text/plain": [
       "28.343689655172415"
      ]
     },
     "execution_count": 237,
     "metadata": {},
     "output_type": "execute_result"
    }
   ],
   "source": [
    "mean_age_survived = df[df['Survived'] == 1]['Age'].mean()\n",
    "mean_age_survived\n"
   ]
  },
  {
   "cell_type": "markdown",
   "id": "b24549b9-9a47-4f7f-8970-69ecd6214901",
   "metadata": {},
   "source": [
    "### 6. Kazadan kurtulanların bilet fiyatlarının ortalamasını bulunuz\r\n"
   ]
  },
  {
   "cell_type": "code",
   "execution_count": 240,
   "id": "bf5308ca-20c5-47df-b930-f0483a74af28",
   "metadata": {},
   "outputs": [
    {
     "data": {
      "text/plain": [
       "48.39540760233918"
      ]
     },
     "execution_count": 240,
     "metadata": {},
     "output_type": "execute_result"
    }
   ],
   "source": [
    "mean_fare_survived = df[df['Survived'] == 1]['Fare'].mean()\n",
    "mean_fare_survived\n"
   ]
  },
  {
   "cell_type": "markdown",
   "id": "1554ff2a-757c-4e9b-9530-97ecc9d7dde8",
   "metadata": {},
   "source": [
    "### 7. Kazadan kurtulan toplam kişi sayısını bulunuz\r\n"
   ]
  },
  {
   "cell_type": "code",
   "execution_count": 243,
   "id": "9ec3f7c2-ebb8-41d3-a61c-963abdcf9d18",
   "metadata": {},
   "outputs": [
    {
     "data": {
      "text/plain": [
       "342"
      ]
     },
     "execution_count": 243,
     "metadata": {},
     "output_type": "execute_result"
    }
   ],
   "source": [
    "survivor_count = len(df[df['Survived'] == 1])\n",
    "survivor_count\n"
   ]
  },
  {
   "cell_type": "markdown",
   "id": "52ec7f3f-828e-497b-b88e-fa3446a38040",
   "metadata": {},
   "source": [
    "### 8. 10 yaşından küçüklerin bilet fiyatlarının medyan değerini bulunuz\r\n"
   ]
  },
  {
   "cell_type": "code",
   "execution_count": 248,
   "id": "19e36997-9667-4ab5-aa9e-8d87c17a7b87",
   "metadata": {},
   "outputs": [
    {
     "data": {
      "text/plain": [
       "27.0"
      ]
     },
     "execution_count": 248,
     "metadata": {},
     "output_type": "execute_result"
    }
   ],
   "source": [
    "median_fare_under_10 = df[df['Age'] < 10]['Fare'].median()\n",
    "median_fare_under_10\n"
   ]
  },
  {
   "cell_type": "markdown",
   "id": "f0c9b631-d09c-4421-b900-9b1013ad628d",
   "metadata": {},
   "source": [
    "### 9. 1.sınıf, 2.sınıf ve 3.sınıf bilet fiyatlarının ortalama ve medyanlarını karşılaştırınız\n"
   ]
  },
  {
   "cell_type": "code",
   "execution_count": 251,
   "id": "2654dacb-ff1e-491f-b18c-429f204733c6",
   "metadata": {},
   "outputs": [
    {
     "name": "stdout",
     "output_type": "stream",
     "text": [
      "Pclass 1 - Ortalama: 84.15, Medyan: 60.29\n",
      "Pclass 2 - Ortalama: 20.66, Medyan: 14.25\n",
      "Pclass 3 - Ortalama: 13.68, Medyan: 8.05\n"
     ]
    }
   ],
   "source": [
    "\n",
    "classes = [1, 2, 3]\n",
    "means = []\n",
    "medians = []\n",
    "\n",
    "for cls in classes:\n",
    "    cls_data = df[df['Pclass'] == cls]['Fare']\n",
    "    mean_val = cls_data.mean()\n",
    "    median_val = cls_data.median()\n",
    "    means.append(mean_val)\n",
    "    medians.append(median_val)\n",
    "    print(f\"Pclass {cls} - Ortalama: {mean_val:.2f}, Medyan: {median_val:.2f}\")"
   ]
  },
  {
   "cell_type": "markdown",
   "id": "e6c1d335-11da-4706-bb7e-c99cc96dcfc8",
   "metadata": {},
   "source": [
    "### 10. Kazada ölen kadınların oranı ile erkeklerin oranını karşılaştırınız\r\n"
   ]
  },
  {
   "cell_type": "code",
   "execution_count": 256,
   "id": "5e74a1b7-2744-4b0b-b3d5-f8d37fac9c5d",
   "metadata": {},
   "outputs": [
    {
     "name": "stdout",
     "output_type": "stream",
     "text": [
      "Erkeklerde ölüm oranı: 81.11%\n",
      "Kadınlarda ölüm oranı: 25.80%\n"
     ]
    }
   ],
   "source": [
    "dead_males = df[(df['Survived'] == 0) & (df['Sex'] == 'male')]\n",
    "dead_females = df[(df['Survived'] == 0) & (df['Sex'] == 'female')]\n",
    "\n",
    "total_males = df[df['Sex'] == 'male']\n",
    "total_females = df[df['Sex'] == 'female']\n",
    "\n",
    "male_death_rate = len(dead_males) / len(total_males)\n",
    "female_death_rate = len(dead_females) / len(total_females)\n",
    "\n",
    "print(f\"Erkeklerde ölüm oranı: {male_death_rate:.2%}\")\n",
    "print(f\"Kadınlarda ölüm oranı: {female_death_rate:.2%}\")\n"
   ]
  },
  {
   "cell_type": "code",
   "execution_count": null,
   "id": "c1544d23-9982-4414-ab77-8e152a88920f",
   "metadata": {},
   "outputs": [],
   "source": []
  }
 ],
 "metadata": {
  "kernelspec": {
   "display_name": "Python 3 (ipykernel)",
   "language": "python",
   "name": "python3"
  },
  "language_info": {
   "codemirror_mode": {
    "name": "ipython",
    "version": 3
   },
   "file_extension": ".py",
   "mimetype": "text/x-python",
   "name": "python",
   "nbconvert_exporter": "python",
   "pygments_lexer": "ipython3",
   "version": "3.12.4"
  }
 },
 "nbformat": 4,
 "nbformat_minor": 5
}
